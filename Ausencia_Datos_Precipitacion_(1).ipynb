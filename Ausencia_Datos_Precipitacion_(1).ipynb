{
  "nbformat": 4,
  "nbformat_minor": 0,
  "metadata": {
    "kernelspec": {
      "display_name": "Python 3",
      "language": "python",
      "name": "python3"
    },
    "language_info": {
      "codemirror_mode": {
        "name": "ipython",
        "version": 3
      },
      "file_extension": ".py",
      "mimetype": "text/x-python",
      "name": "python",
      "nbconvert_exporter": "python",
      "pygments_lexer": "ipython3",
      "version": "3.8.5"
    },
    "colab": {
      "name": "Ausencia_Datos_Precipitacion (1).ipynb",
      "provenance": [],
      "include_colab_link": true
    }
  },
  "cells": [
    {
      "cell_type": "markdown",
      "metadata": {
        "id": "view-in-github",
        "colab_type": "text"
      },
      "source": [
        "<a href=\"https://colab.research.google.com/github/januarf12/GEOCING/blob/main/Ausencia_Datos_Precipitacion_(1).ipynb\" target=\"_parent\"><img src=\"https://colab.research.google.com/assets/colab-badge.svg\" alt=\"Open In Colab\"/></a>"
      ]
    },
    {
      "cell_type": "markdown",
      "metadata": {
        "id": "_57vI5Ajg3mD"
      },
      "source": [
        "# VACIOS DE INFORMACIÓN EN ESTACIONES DE PRECIPITACIÓN"
      ]
    },
    {
      "cell_type": "markdown",
      "metadata": {
        "id": "vUGEVAfJg3mH"
      },
      "source": [
        "#### Código funcional para establecer la calidad de los registros de precipitación de estaciones, analizando vacios en información temporal registrada por la estación"
      ]
    },
    {
      "cell_type": "markdown",
      "metadata": {
        "id": "QdIV7Visg3mI"
      },
      "source": [
        "###### @author: Ing. Daniela F.\n",
        "###### @email : "
      ]
    },
    {
      "cell_type": "code",
      "metadata": {
        "id": "7BNA9acpg3mI"
      },
      "source": [
        "#Use to import pandas\n",
        "import pandas as pd\n",
        "#Use to import the file into google Colab drive\n",
        "from google.colab import files\n",
        "#Use to import io, which opens the file from the Colab drive\n",
        "import io \n",
        "import sys\n",
        "stdout = sys.stdout\n",
        "\n",
        "# some functions that mess up sys.stdout\n",
        "sys.stdout = stdout"
      ],
      "execution_count": null,
      "outputs": []
    },
    {
      "cell_type": "code",
      "metadata": {
        "id": "kccem0k5g3mJ"
      },
      "source": [
        "# This will open a widget when run that will enable you to browse the files on your local storage drive.\n",
        "uploaded = files.upload()\n",
        "# Now use the below code to read the csv in pandas' dataframe\n",
        "df = pd.read_csv(io.StringIO(uploaded['excel.csv.csv'].decode('utf-8')))"
      ],
      "execution_count": null,
      "outputs": []
    },
    {
      "cell_type": "code",
      "metadata": {
        "id": "xnKN_FAZnffi"
      },
      "source": [
        "df"
      ],
      "execution_count": null,
      "outputs": []
    },
    {
      "cell_type": "code",
      "metadata": {
        "id": "iBEpt7mEg3mJ"
      },
      "source": [
        "meses = {1:31,2:28,3:31,4:30,5:31,6:30,7:31,8:31,9:30,10:31,11:30,12:31}\n",
        "analisis = []\n",
        "#List unique values in the df['CodigoEstacion'] column\n",
        "estaciones = df.CodigoEstacion.unique()"
      ],
      "execution_count": null,
      "outputs": []
    },
    {
      "cell_type": "code",
      "metadata": {
        "id": "oO64u2B9n7kp"
      },
      "source": [
        "#Añadimos columnas relacionadas con la fecha del dato\n",
        "df[\"AÑO\"]= df['Fecha'].str[0:4].astype('int64')\n",
        "df[\"MES\"]= df['Fecha'].str[5:7].astype('int64')\n",
        "df[\"DIA\"]= df['Fecha'].str[8:10].astype('int64')\n"
      ],
      "execution_count": null,
      "outputs": []
    },
    {
      "cell_type": "code",
      "metadata": {
        "id": "IbCvQBZZ5YSz"
      },
      "source": [
        "for estacion in estaciones:\n",
        "  fechassininfo = []\n",
        "  print(\"\\nSu estacion es: \"+str(estacion))\n",
        "  # Escoger entradas de la estación a evaluar\n",
        "  df_estacion = df[df['CodigoEstacion'] == estacion]\n",
        "  min_ano = df_estacion[\"AÑO\"].min()\n",
        "  max_ano = df_estacion[\"AÑO\"].max()\n",
        "  print(\"Registros entre los años: \"+str(min_ano)+\" - \"+str(max_ano)+\"\\n\")\n",
        "  for anio in range(min_ano,max_ano + 1):\n",
        "      df_anio = df_estacion[df_estacion['AÑO'] == anio]\n",
        "      print(anio)\n",
        "      res = df_anio.isin([anio]).any().any() \n",
        "      if res : \n",
        "          print(\"Hay registros del año: \"+ str(anio)) \n",
        "      else : \n",
        "          print(\"No hay registros del año: \"+ str(anio))\n",
        "      for mes in range(1,13):\n",
        "          df_mes = df_anio[df_anio['MES'] == mes]\n",
        "          resmes = df_mes.isin([mes]).any().any() \n",
        "          if resmes : \n",
        "              print(\"Hay registros del mes \"+ str(mes)+\" del año \"+ str(anio)) \n",
        "              for dia in range(1,meses[mes]+1):\n",
        "                  df_dia = df_mes[df_mes['DIA'] == dia]\n",
        "                  resdia = df_dia.isin([dia]).any().any() \n",
        "                  if resdia : \n",
        "                    a = 1\n",
        "                  else : \n",
        "                      print(\"No hay registros del dia: \"+str(dia)+\"/\"+ str(mes)+\"/\"+ str(anio))\n",
        "                      fechassininfo.append(str(dia)+\"/\"+ str(mes)+\"/\"+ str(anio)) \n",
        "          else : \n",
        "              print(\"No hay registros del mes \"+ str(mes)+\" del año \"+ str(anio))\n",
        "  print(\"\\n\"+\"///////////// RESUMEN REPORTE ESTACIÓN \"+ str(estacion) + \"//////////////////////////\"+\"\\n\" )\n",
        "  print(\"Rango temporal de regsitros: \"+str(min_ano)+\" - \"+str(max_ano)+\"\\n\")\n",
        "  print(\"Fechas sin información en el registro: \" + str(len(fechassininfo)) + \" registros ausentes\")\n",
        "  for fechas in fechassininfo:\n",
        "    print(str(fechas))\n"
      ],
      "execution_count": null,
      "outputs": []
    },
    {
      "cell_type": "code",
      "metadata": {
        "id": "3X3-Gx2AzdHJ"
      },
      "source": [
        "files.download('AEROPUERTO.txt')"
      ],
      "execution_count": null,
      "outputs": []
    }
  ]
}