{
  "nbformat": 4,
  "nbformat_minor": 0,
  "metadata": {
    "kernelspec": {
      "display_name": "Python 3",
      "language": "python",
      "name": "python3"
    },
    "language_info": {
      "codemirror_mode": {
        "name": "ipython",
        "version": 3
      },
      "file_extension": ".py",
      "mimetype": "text/x-python",
      "name": "python",
      "nbconvert_exporter": "python",
      "pygments_lexer": "ipython3",
      "version": "3.8.5"
    },
    "colab": {
      "name": "Ausencia_Datos_Precipitacion (1).ipynb",
      "provenance": [],
      "include_colab_link": true
    }
  },
  "cells": [
    {
      "cell_type": "markdown",
      "metadata": {
        "id": "view-in-github",
        "colab_type": "text"
      },
      "source": [
        "<a href=\"https://colab.research.google.com/github/januarf12/GEOCING/blob/main/Ausencia_Datos_Precipitacion_final.ipynb\" target=\"_parent\"><img src=\"https://colab.research.google.com/assets/colab-badge.svg\" alt=\"Open In Colab\"/></a>"
      ]
    },
    {
      "cell_type": "markdown",
      "metadata": {
        "id": "_57vI5Ajg3mD"
      },
      "source": [
        "# VACIOS DE INFORMACIÓN EN ESTACIONES DE PRECIPITACIÓN"
      ]
    },
    {
      "cell_type": "markdown",
      "metadata": {
        "id": "vUGEVAfJg3mH"
      },
      "source": [
        "#### Código funcional para establecer la calidad de los registros de precipitación de estaciones, analizando vacios en información temporal registrada por la estación"
      ]
    },
    {
      "cell_type": "markdown",
      "metadata": {
        "id": "QdIV7Visg3mI"
      },
      "source": [
        "###### @author: Ing. Daniela F.\n",
        "###### @email : "
      ]
    },
    {
      "cell_type": "code",
      "metadata": {
        "id": "7BNA9acpg3mI"
      },
      "source": [
        "#Use to import pandas\n",
        "import pandas as pd\n",
        "#Use to import the file into google Colab drive\n",
        "from google.colab import files\n",
        "#Use to import io, which opens the file from the Colab drive\n",
        "import io \n",
        "import sys\n",
        "stdout = sys.stdout\n",
        "\n",
        "# some functions that mess up sys.stdout\n",
        "sys.stdout = stdout"
      ],
      "execution_count": 1,
      "outputs": []
    },
    {
      "cell_type": "code",
      "metadata": {
        "id": "kccem0k5g3mJ",
        "colab": {
          "resources": {
            "http://localhost:8080/nbextensions/google.colab/files.js": {
              "data": "Ly8gQ29weXJpZ2h0IDIwMTcgR29vZ2xlIExMQwovLwovLyBMaWNlbnNlZCB1bmRlciB0aGUgQXBhY2hlIExpY2Vuc2UsIFZlcnNpb24gMi4wICh0aGUgIkxpY2Vuc2UiKTsKLy8geW91IG1heSBub3QgdXNlIHRoaXMgZmlsZSBleGNlcHQgaW4gY29tcGxpYW5jZSB3aXRoIHRoZSBMaWNlbnNlLgovLyBZb3UgbWF5IG9idGFpbiBhIGNvcHkgb2YgdGhlIExpY2Vuc2UgYXQKLy8KLy8gICAgICBodHRwOi8vd3d3LmFwYWNoZS5vcmcvbGljZW5zZXMvTElDRU5TRS0yLjAKLy8KLy8gVW5sZXNzIHJlcXVpcmVkIGJ5IGFwcGxpY2FibGUgbGF3IG9yIGFncmVlZCB0byBpbiB3cml0aW5nLCBzb2Z0d2FyZQovLyBkaXN0cmlidXRlZCB1bmRlciB0aGUgTGljZW5zZSBpcyBkaXN0cmlidXRlZCBvbiBhbiAiQVMgSVMiIEJBU0lTLAovLyBXSVRIT1VUIFdBUlJBTlRJRVMgT1IgQ09ORElUSU9OUyBPRiBBTlkgS0lORCwgZWl0aGVyIGV4cHJlc3Mgb3IgaW1wbGllZC4KLy8gU2VlIHRoZSBMaWNlbnNlIGZvciB0aGUgc3BlY2lmaWMgbGFuZ3VhZ2UgZ292ZXJuaW5nIHBlcm1pc3Npb25zIGFuZAovLyBsaW1pdGF0aW9ucyB1bmRlciB0aGUgTGljZW5zZS4KCi8qKgogKiBAZmlsZW92ZXJ2aWV3IEhlbHBlcnMgZm9yIGdvb2dsZS5jb2xhYiBQeXRob24gbW9kdWxlLgogKi8KKGZ1bmN0aW9uKHNjb3BlKSB7CmZ1bmN0aW9uIHNwYW4odGV4dCwgc3R5bGVBdHRyaWJ1dGVzID0ge30pIHsKICBjb25zdCBlbGVtZW50ID0gZG9jdW1lbnQuY3JlYXRlRWxlbWVudCgnc3BhbicpOwogIGVsZW1lbnQudGV4dENvbnRlbnQgPSB0ZXh0OwogIGZvciAoY29uc3Qga2V5IG9mIE9iamVjdC5rZXlzKHN0eWxlQXR0cmlidXRlcykpIHsKICAgIGVsZW1lbnQuc3R5bGVba2V5XSA9IHN0eWxlQXR0cmlidXRlc1trZXldOwogIH0KICByZXR1cm4gZWxlbWVudDsKfQoKLy8gTWF4IG51bWJlciBvZiBieXRlcyB3aGljaCB3aWxsIGJlIHVwbG9hZGVkIGF0IGEgdGltZS4KY29uc3QgTUFYX1BBWUxPQURfU0laRSA9IDEwMCAqIDEwMjQ7CgpmdW5jdGlvbiBfdXBsb2FkRmlsZXMoaW5wdXRJZCwgb3V0cHV0SWQpIHsKICBjb25zdCBzdGVwcyA9IHVwbG9hZEZpbGVzU3RlcChpbnB1dElkLCBvdXRwdXRJZCk7CiAgY29uc3Qgb3V0cHV0RWxlbWVudCA9IGRvY3VtZW50LmdldEVsZW1lbnRCeUlkKG91dHB1dElkKTsKICAvLyBDYWNoZSBzdGVwcyBvbiB0aGUgb3V0cHV0RWxlbWVudCB0byBtYWtlIGl0IGF2YWlsYWJsZSBmb3IgdGhlIG5leHQgY2FsbAogIC8vIHRvIHVwbG9hZEZpbGVzQ29udGludWUgZnJvbSBQeXRob24uCiAgb3V0cHV0RWxlbWVudC5zdGVwcyA9IHN0ZXBzOwoKICByZXR1cm4gX3VwbG9hZEZpbGVzQ29udGludWUob3V0cHV0SWQpOwp9CgovLyBUaGlzIGlzIHJvdWdobHkgYW4gYXN5bmMgZ2VuZXJhdG9yIChub3Qgc3VwcG9ydGVkIGluIHRoZSBicm93c2VyIHlldCksCi8vIHdoZXJlIHRoZXJlIGFyZSBtdWx0aXBsZSBhc3luY2hyb25vdXMgc3RlcHMgYW5kIHRoZSBQeXRob24gc2lkZSBpcyBnb2luZwovLyB0byBwb2xsIGZvciBjb21wbGV0aW9uIG9mIGVhY2ggc3RlcC4KLy8gVGhpcyB1c2VzIGEgUHJvbWlzZSB0byBibG9jayB0aGUgcHl0aG9uIHNpZGUgb24gY29tcGxldGlvbiBvZiBlYWNoIHN0ZXAsCi8vIHRoZW4gcGFzc2VzIHRoZSByZXN1bHQgb2YgdGhlIHByZXZpb3VzIHN0ZXAgYXMgdGhlIGlucHV0IHRvIHRoZSBuZXh0IHN0ZXAuCmZ1bmN0aW9uIF91cGxvYWRGaWxlc0NvbnRpbnVlKG91dHB1dElkKSB7CiAgY29uc3Qgb3V0cHV0RWxlbWVudCA9IGRvY3VtZW50LmdldEVsZW1lbnRCeUlkKG91dHB1dElkKTsKICBjb25zdCBzdGVwcyA9IG91dHB1dEVsZW1lbnQuc3RlcHM7CgogIGNvbnN0IG5leHQgPSBzdGVwcy5uZXh0KG91dHB1dEVsZW1lbnQubGFzdFByb21pc2VWYWx1ZSk7CiAgcmV0dXJuIFByb21pc2UucmVzb2x2ZShuZXh0LnZhbHVlLnByb21pc2UpLnRoZW4oKHZhbHVlKSA9PiB7CiAgICAvLyBDYWNoZSB0aGUgbGFzdCBwcm9taXNlIHZhbHVlIHRvIG1ha2UgaXQgYXZhaWxhYmxlIHRvIHRoZSBuZXh0CiAgICAvLyBzdGVwIG9mIHRoZSBnZW5lcmF0b3IuCiAgICBvdXRwdXRFbGVtZW50Lmxhc3RQcm9taXNlVmFsdWUgPSB2YWx1ZTsKICAgIHJldHVybiBuZXh0LnZhbHVlLnJlc3BvbnNlOwogIH0pOwp9CgovKioKICogR2VuZXJhdG9yIGZ1bmN0aW9uIHdoaWNoIGlzIGNhbGxlZCBiZXR3ZWVuIGVhY2ggYXN5bmMgc3RlcCBvZiB0aGUgdXBsb2FkCiAqIHByb2Nlc3MuCiAqIEBwYXJhbSB7c3RyaW5nfSBpbnB1dElkIEVsZW1lbnQgSUQgb2YgdGhlIGlucHV0IGZpbGUgcGlja2VyIGVsZW1lbnQuCiAqIEBwYXJhbSB7c3RyaW5nfSBvdXRwdXRJZCBFbGVtZW50IElEIG9mIHRoZSBvdXRwdXQgZGlzcGxheS4KICogQHJldHVybiB7IUl0ZXJhYmxlPCFPYmplY3Q+fSBJdGVyYWJsZSBvZiBuZXh0IHN0ZXBzLgogKi8KZnVuY3Rpb24qIHVwbG9hZEZpbGVzU3RlcChpbnB1dElkLCBvdXRwdXRJZCkgewogIGNvbnN0IGlucHV0RWxlbWVudCA9IGRvY3VtZW50LmdldEVsZW1lbnRCeUlkKGlucHV0SWQpOwogIGlucHV0RWxlbWVudC5kaXNhYmxlZCA9IGZhbHNlOwoKICBjb25zdCBvdXRwdXRFbGVtZW50ID0gZG9jdW1lbnQuZ2V0RWxlbWVudEJ5SWQob3V0cHV0SWQpOwogIG91dHB1dEVsZW1lbnQuaW5uZXJIVE1MID0gJyc7CgogIGNvbnN0IHBpY2tlZFByb21pc2UgPSBuZXcgUHJvbWlzZSgocmVzb2x2ZSkgPT4gewogICAgaW5wdXRFbGVtZW50LmFkZEV2ZW50TGlzdGVuZXIoJ2NoYW5nZScsIChlKSA9PiB7CiAgICAgIHJlc29sdmUoZS50YXJnZXQuZmlsZXMpOwogICAgfSk7CiAgfSk7CgogIGNvbnN0IGNhbmNlbCA9IGRvY3VtZW50LmNyZWF0ZUVsZW1lbnQoJ2J1dHRvbicpOwogIGlucHV0RWxlbWVudC5wYXJlbnRFbGVtZW50LmFwcGVuZENoaWxkKGNhbmNlbCk7CiAgY2FuY2VsLnRleHRDb250ZW50ID0gJ0NhbmNlbCB1cGxvYWQnOwogIGNvbnN0IGNhbmNlbFByb21pc2UgPSBuZXcgUHJvbWlzZSgocmVzb2x2ZSkgPT4gewogICAgY2FuY2VsLm9uY2xpY2sgPSAoKSA9PiB7CiAgICAgIHJlc29sdmUobnVsbCk7CiAgICB9OwogIH0pOwoKICAvLyBXYWl0IGZvciB0aGUgdXNlciB0byBwaWNrIHRoZSBmaWxlcy4KICBjb25zdCBmaWxlcyA9IHlpZWxkIHsKICAgIHByb21pc2U6IFByb21pc2UucmFjZShbcGlja2VkUHJvbWlzZSwgY2FuY2VsUHJvbWlzZV0pLAogICAgcmVzcG9uc2U6IHsKICAgICAgYWN0aW9uOiAnc3RhcnRpbmcnLAogICAgfQogIH07CgogIGNhbmNlbC5yZW1vdmUoKTsKCiAgLy8gRGlzYWJsZSB0aGUgaW5wdXQgZWxlbWVudCBzaW5jZSBmdXJ0aGVyIHBpY2tzIGFyZSBub3QgYWxsb3dlZC4KICBpbnB1dEVsZW1lbnQuZGlzYWJsZWQgPSB0cnVlOwoKICBpZiAoIWZpbGVzKSB7CiAgICByZXR1cm4gewogICAgICByZXNwb25zZTogewogICAgICAgIGFjdGlvbjogJ2NvbXBsZXRlJywKICAgICAgfQogICAgfTsKICB9CgogIGZvciAoY29uc3QgZmlsZSBvZiBmaWxlcykgewogICAgY29uc3QgbGkgPSBkb2N1bWVudC5jcmVhdGVFbGVtZW50KCdsaScpOwogICAgbGkuYXBwZW5kKHNwYW4oZmlsZS5uYW1lLCB7Zm9udFdlaWdodDogJ2JvbGQnfSkpOwogICAgbGkuYXBwZW5kKHNwYW4oCiAgICAgICAgYCgke2ZpbGUudHlwZSB8fCAnbi9hJ30pIC0gJHtmaWxlLnNpemV9IGJ5dGVzLCBgICsKICAgICAgICBgbGFzdCBtb2RpZmllZDogJHsKICAgICAgICAgICAgZmlsZS5sYXN0TW9kaWZpZWREYXRlID8gZmlsZS5sYXN0TW9kaWZpZWREYXRlLnRvTG9jYWxlRGF0ZVN0cmluZygpIDoKICAgICAgICAgICAgICAgICAgICAgICAgICAgICAgICAgICAgJ24vYSd9IC0gYCkpOwogICAgY29uc3QgcGVyY2VudCA9IHNwYW4oJzAlIGRvbmUnKTsKICAgIGxpLmFwcGVuZENoaWxkKHBlcmNlbnQpOwoKICAgIG91dHB1dEVsZW1lbnQuYXBwZW5kQ2hpbGQobGkpOwoKICAgIGNvbnN0IGZpbGVEYXRhUHJvbWlzZSA9IG5ldyBQcm9taXNlKChyZXNvbHZlKSA9PiB7CiAgICAgIGNvbnN0IHJlYWRlciA9IG5ldyBGaWxlUmVhZGVyKCk7CiAgICAgIHJlYWRlci5vbmxvYWQgPSAoZSkgPT4gewogICAgICAgIHJlc29sdmUoZS50YXJnZXQucmVzdWx0KTsKICAgICAgfTsKICAgICAgcmVhZGVyLnJlYWRBc0FycmF5QnVmZmVyKGZpbGUpOwogICAgfSk7CiAgICAvLyBXYWl0IGZvciB0aGUgZGF0YSB0byBiZSByZWFkeS4KICAgIGxldCBmaWxlRGF0YSA9IHlpZWxkIHsKICAgICAgcHJvbWlzZTogZmlsZURhdGFQcm9taXNlLAogICAgICByZXNwb25zZTogewogICAgICAgIGFjdGlvbjogJ2NvbnRpbnVlJywKICAgICAgfQogICAgfTsKCiAgICAvLyBVc2UgYSBjaHVua2VkIHNlbmRpbmcgdG8gYXZvaWQgbWVzc2FnZSBzaXplIGxpbWl0cy4gU2VlIGIvNjIxMTU2NjAuCiAgICBsZXQgcG9zaXRpb24gPSAwOwogICAgd2hpbGUgKHBvc2l0aW9uIDwgZmlsZURhdGEuYnl0ZUxlbmd0aCkgewogICAgICBjb25zdCBsZW5ndGggPSBNYXRoLm1pbihmaWxlRGF0YS5ieXRlTGVuZ3RoIC0gcG9zaXRpb24sIE1BWF9QQVlMT0FEX1NJWkUpOwogICAgICBjb25zdCBjaHVuayA9IG5ldyBVaW50OEFycmF5KGZpbGVEYXRhLCBwb3NpdGlvbiwgbGVuZ3RoKTsKICAgICAgcG9zaXRpb24gKz0gbGVuZ3RoOwoKICAgICAgY29uc3QgYmFzZTY0ID0gYnRvYShTdHJpbmcuZnJvbUNoYXJDb2RlLmFwcGx5KG51bGwsIGNodW5rKSk7CiAgICAgIHlpZWxkIHsKICAgICAgICByZXNwb25zZTogewogICAgICAgICAgYWN0aW9uOiAnYXBwZW5kJywKICAgICAgICAgIGZpbGU6IGZpbGUubmFtZSwKICAgICAgICAgIGRhdGE6IGJhc2U2NCwKICAgICAgICB9LAogICAgICB9OwogICAgICBwZXJjZW50LnRleHRDb250ZW50ID0KICAgICAgICAgIGAke01hdGgucm91bmQoKHBvc2l0aW9uIC8gZmlsZURhdGEuYnl0ZUxlbmd0aCkgKiAxMDApfSUgZG9uZWA7CiAgICB9CiAgfQoKICAvLyBBbGwgZG9uZS4KICB5aWVsZCB7CiAgICByZXNwb25zZTogewogICAgICBhY3Rpb246ICdjb21wbGV0ZScsCiAgICB9CiAgfTsKfQoKc2NvcGUuZ29vZ2xlID0gc2NvcGUuZ29vZ2xlIHx8IHt9OwpzY29wZS5nb29nbGUuY29sYWIgPSBzY29wZS5nb29nbGUuY29sYWIgfHwge307CnNjb3BlLmdvb2dsZS5jb2xhYi5fZmlsZXMgPSB7CiAgX3VwbG9hZEZpbGVzLAogIF91cGxvYWRGaWxlc0NvbnRpbnVlLAp9Owp9KShzZWxmKTsK",
              "ok": true,
              "headers": [
                [
                  "content-type",
                  "application/javascript"
                ]
              ],
              "status": 200,
              "status_text": ""
            }
          },
          "base_uri": "https://localhost:8080/",
          "height": 73
        },
        "outputId": "19e3ce70-d414-4b78-9a77-7338e4a1d5ae"
      },
      "source": [
        "# This will open a widget when run that will enable you to browse the files on your local storage drive.\n",
        "uploaded = files.upload()\n",
        "# Now use the below code to read the csv in pandas' dataframe\n",
        "df = pd.read_csv(io.StringIO(uploaded['excel.csv.csv'].decode('utf-8')))\n",
        "txt = "
      ],
      "execution_count": 2,
      "outputs": [
        {
          "output_type": "display_data",
          "data": {
            "text/html": [
              "\n",
              "     <input type=\"file\" id=\"files-afa06ecb-ca77-4517-894c-c0929ba12944\" name=\"files[]\" multiple disabled\n",
              "        style=\"border:none\" />\n",
              "     <output id=\"result-afa06ecb-ca77-4517-894c-c0929ba12944\">\n",
              "      Upload widget is only available when the cell has been executed in the\n",
              "      current browser session. Please rerun this cell to enable.\n",
              "      </output>\n",
              "      <script src=\"/nbextensions/google.colab/files.js\"></script> "
            ],
            "text/plain": [
              "<IPython.core.display.HTML object>"
            ]
          },
          "metadata": {
            "tags": []
          }
        },
        {
          "output_type": "stream",
          "text": [
            "Saving excel.csv.csv to excel.csv.csv\n"
          ],
          "name": "stdout"
        }
      ]
    },
    {
      "cell_type": "code",
      "metadata": {
        "id": "xnKN_FAZnffi",
        "colab": {
          "base_uri": "https://localhost:8080/",
          "height": 945
        },
        "outputId": "69d0269d-4941-4140-f25e-0c3d1660c1af"
      },
      "source": [
        "df"
      ],
      "execution_count": 3,
      "outputs": [
        {
          "output_type": "execute_result",
          "data": {
            "text/html": [
              "<div>\n",
              "<style scoped>\n",
              "    .dataframe tbody tr th:only-of-type {\n",
              "        vertical-align: middle;\n",
              "    }\n",
              "\n",
              "    .dataframe tbody tr th {\n",
              "        vertical-align: top;\n",
              "    }\n",
              "\n",
              "    .dataframe thead th {\n",
              "        text-align: right;\n",
              "    }\n",
              "</style>\n",
              "<table border=\"1\" class=\"dataframe\">\n",
              "  <thead>\n",
              "    <tr style=\"text-align: right;\">\n",
              "      <th></th>\n",
              "      <th>CodigoEstacion</th>\n",
              "      <th>NombreEstacion</th>\n",
              "      <th>Latitud</th>\n",
              "      <th>Longitud</th>\n",
              "      <th>Altitud</th>\n",
              "      <th>Categoria</th>\n",
              "      <th>Entidad</th>\n",
              "      <th>AreaOperativa</th>\n",
              "      <th>Departamento</th>\n",
              "      <th>Municipio</th>\n",
              "      <th>FechaInstalacion</th>\n",
              "      <th>FechaSuspension</th>\n",
              "      <th>IdParametro</th>\n",
              "      <th>Etiqueta</th>\n",
              "      <th>DescripcionSerie</th>\n",
              "      <th>Frecuencia</th>\n",
              "      <th>Fecha</th>\n",
              "      <th>Valor</th>\n",
              "      <th>Grado</th>\n",
              "      <th>Calificador</th>\n",
              "      <th>NivelAprobacion</th>\n",
              "    </tr>\n",
              "  </thead>\n",
              "  <tbody>\n",
              "    <tr>\n",
              "      <th>0</th>\n",
              "      <td>26035030</td>\n",
              "      <td>AEROPUERTO G L VALENCIA [26035030]</td>\n",
              "      <td>2.452889</td>\n",
              "      <td>-76.60875</td>\n",
              "      <td>1752</td>\n",
              "      <td>Sinóptica Principal</td>\n",
              "      <td>INSTITUTO DE HIDROLOGIA METEOROLOGIA Y ESTUDIO...</td>\n",
              "      <td>Area Operativa 09 - Cauca-Valle-Caldas</td>\n",
              "      <td>Cauca</td>\n",
              "      <td>Popayán</td>\n",
              "      <td>15/06/1941 00:00</td>\n",
              "      <td>NaN</td>\n",
              "      <td>PRECIPITACION</td>\n",
              "      <td>PTPM_CON</td>\n",
              "      <td>Día pluviométrico</td>\n",
              "      <td>Horaria</td>\n",
              "      <td>1991-01-01 07:00</td>\n",
              "      <td>0.0</td>\n",
              "      <td>50</td>\n",
              "      <td>NaN</td>\n",
              "      <td>900</td>\n",
              "    </tr>\n",
              "    <tr>\n",
              "      <th>1</th>\n",
              "      <td>26035030</td>\n",
              "      <td>AEROPUERTO G L VALENCIA [26035030]</td>\n",
              "      <td>2.452889</td>\n",
              "      <td>-76.60875</td>\n",
              "      <td>1752</td>\n",
              "      <td>Sinóptica Principal</td>\n",
              "      <td>INSTITUTO DE HIDROLOGIA METEOROLOGIA Y ESTUDIO...</td>\n",
              "      <td>Area Operativa 09 - Cauca-Valle-Caldas</td>\n",
              "      <td>Cauca</td>\n",
              "      <td>Popayán</td>\n",
              "      <td>15/06/1941 00:00</td>\n",
              "      <td>NaN</td>\n",
              "      <td>PRECIPITACION</td>\n",
              "      <td>PTPM_CON</td>\n",
              "      <td>Día pluviométrico</td>\n",
              "      <td>Horaria</td>\n",
              "      <td>1991-01-02 07:00</td>\n",
              "      <td>0.8</td>\n",
              "      <td>50</td>\n",
              "      <td>NaN</td>\n",
              "      <td>900</td>\n",
              "    </tr>\n",
              "    <tr>\n",
              "      <th>2</th>\n",
              "      <td>26035030</td>\n",
              "      <td>AEROPUERTO G L VALENCIA [26035030]</td>\n",
              "      <td>2.452889</td>\n",
              "      <td>-76.60875</td>\n",
              "      <td>1752</td>\n",
              "      <td>Sinóptica Principal</td>\n",
              "      <td>INSTITUTO DE HIDROLOGIA METEOROLOGIA Y ESTUDIO...</td>\n",
              "      <td>Area Operativa 09 - Cauca-Valle-Caldas</td>\n",
              "      <td>Cauca</td>\n",
              "      <td>Popayán</td>\n",
              "      <td>15/06/1941 00:00</td>\n",
              "      <td>NaN</td>\n",
              "      <td>PRECIPITACION</td>\n",
              "      <td>PTPM_CON</td>\n",
              "      <td>Día pluviométrico</td>\n",
              "      <td>Horaria</td>\n",
              "      <td>1991-01-03 07:00</td>\n",
              "      <td>0.0</td>\n",
              "      <td>50</td>\n",
              "      <td>NaN</td>\n",
              "      <td>900</td>\n",
              "    </tr>\n",
              "    <tr>\n",
              "      <th>3</th>\n",
              "      <td>26035030</td>\n",
              "      <td>AEROPUERTO G L VALENCIA [26035030]</td>\n",
              "      <td>2.452889</td>\n",
              "      <td>-76.60875</td>\n",
              "      <td>1752</td>\n",
              "      <td>Sinóptica Principal</td>\n",
              "      <td>INSTITUTO DE HIDROLOGIA METEOROLOGIA Y ESTUDIO...</td>\n",
              "      <td>Area Operativa 09 - Cauca-Valle-Caldas</td>\n",
              "      <td>Cauca</td>\n",
              "      <td>Popayán</td>\n",
              "      <td>15/06/1941 00:00</td>\n",
              "      <td>NaN</td>\n",
              "      <td>PRECIPITACION</td>\n",
              "      <td>PTPM_CON</td>\n",
              "      <td>Día pluviométrico</td>\n",
              "      <td>Horaria</td>\n",
              "      <td>1991-01-04 07:00</td>\n",
              "      <td>0.0</td>\n",
              "      <td>50</td>\n",
              "      <td>NaN</td>\n",
              "      <td>900</td>\n",
              "    </tr>\n",
              "    <tr>\n",
              "      <th>4</th>\n",
              "      <td>26035030</td>\n",
              "      <td>AEROPUERTO G L VALENCIA [26035030]</td>\n",
              "      <td>2.452889</td>\n",
              "      <td>-76.60875</td>\n",
              "      <td>1752</td>\n",
              "      <td>Sinóptica Principal</td>\n",
              "      <td>INSTITUTO DE HIDROLOGIA METEOROLOGIA Y ESTUDIO...</td>\n",
              "      <td>Area Operativa 09 - Cauca-Valle-Caldas</td>\n",
              "      <td>Cauca</td>\n",
              "      <td>Popayán</td>\n",
              "      <td>15/06/1941 00:00</td>\n",
              "      <td>NaN</td>\n",
              "      <td>PRECIPITACION</td>\n",
              "      <td>PTPM_CON</td>\n",
              "      <td>Día pluviométrico</td>\n",
              "      <td>Horaria</td>\n",
              "      <td>1991-01-05 07:00</td>\n",
              "      <td>0.3</td>\n",
              "      <td>50</td>\n",
              "      <td>NaN</td>\n",
              "      <td>900</td>\n",
              "    </tr>\n",
              "    <tr>\n",
              "      <th>...</th>\n",
              "      <td>...</td>\n",
              "      <td>...</td>\n",
              "      <td>...</td>\n",
              "      <td>...</td>\n",
              "      <td>...</td>\n",
              "      <td>...</td>\n",
              "      <td>...</td>\n",
              "      <td>...</td>\n",
              "      <td>...</td>\n",
              "      <td>...</td>\n",
              "      <td>...</td>\n",
              "      <td>...</td>\n",
              "      <td>...</td>\n",
              "      <td>...</td>\n",
              "      <td>...</td>\n",
              "      <td>...</td>\n",
              "      <td>...</td>\n",
              "      <td>...</td>\n",
              "      <td>...</td>\n",
              "      <td>...</td>\n",
              "      <td>...</td>\n",
              "    </tr>\n",
              "    <tr>\n",
              "      <th>10065</th>\n",
              "      <td>26035030</td>\n",
              "      <td>AEROPUERTO G L VALENCIA [26035030]</td>\n",
              "      <td>2.452889</td>\n",
              "      <td>-76.60875</td>\n",
              "      <td>1752</td>\n",
              "      <td>Sinóptica Principal</td>\n",
              "      <td>INSTITUTO DE HIDROLOGIA METEOROLOGIA Y ESTUDIO...</td>\n",
              "      <td>Area Operativa 09 - Cauca-Valle-Caldas</td>\n",
              "      <td>Cauca</td>\n",
              "      <td>Popayán</td>\n",
              "      <td>15/06/1941 00:00</td>\n",
              "      <td>NaN</td>\n",
              "      <td>PRECIPITACION</td>\n",
              "      <td>PTPM_CON</td>\n",
              "      <td>Día pluviométrico</td>\n",
              "      <td>Horaria</td>\n",
              "      <td>2020-04-26 07:00</td>\n",
              "      <td>0.0</td>\n",
              "      <td>50</td>\n",
              "      <td>NaN</td>\n",
              "      <td>900</td>\n",
              "    </tr>\n",
              "    <tr>\n",
              "      <th>10066</th>\n",
              "      <td>26035030</td>\n",
              "      <td>AEROPUERTO G L VALENCIA [26035030]</td>\n",
              "      <td>2.452889</td>\n",
              "      <td>-76.60875</td>\n",
              "      <td>1752</td>\n",
              "      <td>Sinóptica Principal</td>\n",
              "      <td>INSTITUTO DE HIDROLOGIA METEOROLOGIA Y ESTUDIO...</td>\n",
              "      <td>Area Operativa 09 - Cauca-Valle-Caldas</td>\n",
              "      <td>Cauca</td>\n",
              "      <td>Popayán</td>\n",
              "      <td>15/06/1941 00:00</td>\n",
              "      <td>NaN</td>\n",
              "      <td>PRECIPITACION</td>\n",
              "      <td>PTPM_CON</td>\n",
              "      <td>Día pluviométrico</td>\n",
              "      <td>Horaria</td>\n",
              "      <td>2020-04-27 07:00</td>\n",
              "      <td>0.0</td>\n",
              "      <td>50</td>\n",
              "      <td>NaN</td>\n",
              "      <td>900</td>\n",
              "    </tr>\n",
              "    <tr>\n",
              "      <th>10067</th>\n",
              "      <td>26035030</td>\n",
              "      <td>AEROPUERTO G L VALENCIA [26035030]</td>\n",
              "      <td>2.452889</td>\n",
              "      <td>-76.60875</td>\n",
              "      <td>1752</td>\n",
              "      <td>Sinóptica Principal</td>\n",
              "      <td>INSTITUTO DE HIDROLOGIA METEOROLOGIA Y ESTUDIO...</td>\n",
              "      <td>Area Operativa 09 - Cauca-Valle-Caldas</td>\n",
              "      <td>Cauca</td>\n",
              "      <td>Popayán</td>\n",
              "      <td>15/06/1941 00:00</td>\n",
              "      <td>NaN</td>\n",
              "      <td>PRECIPITACION</td>\n",
              "      <td>PTPM_CON</td>\n",
              "      <td>Día pluviométrico</td>\n",
              "      <td>Horaria</td>\n",
              "      <td>2020-04-28 07:00</td>\n",
              "      <td>0.0</td>\n",
              "      <td>50</td>\n",
              "      <td>NaN</td>\n",
              "      <td>900</td>\n",
              "    </tr>\n",
              "    <tr>\n",
              "      <th>10068</th>\n",
              "      <td>26035030</td>\n",
              "      <td>AEROPUERTO G L VALENCIA [26035030]</td>\n",
              "      <td>2.452889</td>\n",
              "      <td>-76.60875</td>\n",
              "      <td>1752</td>\n",
              "      <td>Sinóptica Principal</td>\n",
              "      <td>INSTITUTO DE HIDROLOGIA METEOROLOGIA Y ESTUDIO...</td>\n",
              "      <td>Area Operativa 09 - Cauca-Valle-Caldas</td>\n",
              "      <td>Cauca</td>\n",
              "      <td>Popayán</td>\n",
              "      <td>15/06/1941 00:00</td>\n",
              "      <td>NaN</td>\n",
              "      <td>PRECIPITACION</td>\n",
              "      <td>PTPM_CON</td>\n",
              "      <td>Día pluviométrico</td>\n",
              "      <td>Horaria</td>\n",
              "      <td>2020-04-29 07:00</td>\n",
              "      <td>3.5</td>\n",
              "      <td>50</td>\n",
              "      <td>NaN</td>\n",
              "      <td>900</td>\n",
              "    </tr>\n",
              "    <tr>\n",
              "      <th>10069</th>\n",
              "      <td>26035030</td>\n",
              "      <td>AEROPUERTO G L VALENCIA [26035030]</td>\n",
              "      <td>2.452889</td>\n",
              "      <td>-76.60875</td>\n",
              "      <td>1752</td>\n",
              "      <td>Sinóptica Principal</td>\n",
              "      <td>INSTITUTO DE HIDROLOGIA METEOROLOGIA Y ESTUDIO...</td>\n",
              "      <td>Area Operativa 09 - Cauca-Valle-Caldas</td>\n",
              "      <td>Cauca</td>\n",
              "      <td>Popayán</td>\n",
              "      <td>15/06/1941 00:00</td>\n",
              "      <td>NaN</td>\n",
              "      <td>PRECIPITACION</td>\n",
              "      <td>PTPM_CON</td>\n",
              "      <td>Día pluviométrico</td>\n",
              "      <td>Horaria</td>\n",
              "      <td>2020-04-30 07:00</td>\n",
              "      <td>2.3</td>\n",
              "      <td>50</td>\n",
              "      <td>NaN</td>\n",
              "      <td>900</td>\n",
              "    </tr>\n",
              "  </tbody>\n",
              "</table>\n",
              "<p>10070 rows × 21 columns</p>\n",
              "</div>"
            ],
            "text/plain": [
              "       CodigoEstacion  ... NivelAprobacion\n",
              "0            26035030  ...             900\n",
              "1            26035030  ...             900\n",
              "2            26035030  ...             900\n",
              "3            26035030  ...             900\n",
              "4            26035030  ...             900\n",
              "...               ...  ...             ...\n",
              "10065        26035030  ...             900\n",
              "10066        26035030  ...             900\n",
              "10067        26035030  ...             900\n",
              "10068        26035030  ...             900\n",
              "10069        26035030  ...             900\n",
              "\n",
              "[10070 rows x 21 columns]"
            ]
          },
          "metadata": {
            "tags": []
          },
          "execution_count": 3
        }
      ]
    },
    {
      "cell_type": "code",
      "metadata": {
        "id": "iBEpt7mEg3mJ"
      },
      "source": [
        "meses = {1:31,2:28,3:31,4:30,5:31,6:30,7:31,8:31,9:30,10:31,11:30,12:31}\n",
        "analisis = []\n",
        "#List unique values in the df['CodigoEstacion'] column\n",
        "estaciones = df.CodigoEstacion.unique()"
      ],
      "execution_count": 4,
      "outputs": []
    },
    {
      "cell_type": "code",
      "metadata": {
        "id": "oO64u2B9n7kp"
      },
      "source": [
        "#Añadimos columnas relacionadas con la fecha del dato\n",
        "df[\"AÑO\"]= df['Fecha'].str[0:4].astype('int64')\n",
        "df[\"MES\"]= df['Fecha'].str[5:7].astype('int64')\n",
        "df[\"DIA\"]= df['Fecha'].str[8:10].astype('int64')\n"
      ],
      "execution_count": 5,
      "outputs": []
    },
    {
      "cell_type": "code",
      "metadata": {
        "id": "IbCvQBZZ5YSz",
        "colab": {
          "base_uri": "https://localhost:8080/"
        },
        "outputId": "06298da6-45e1-4183-b54b-0f5c6c82cb6b"
      },
      "source": [
        "with open('example.txt', 'w') as f:\n",
        "  for estacion in estaciones:\n",
        "    fechassininfo = []\n",
        "    print(\"\\nSu estacion es: \"+str(estacion), file=f)\n",
        "    # Escoger entradas de la estación a evaluar\n",
        "    df_estacion = df[df['CodigoEstacion'] == estacion]\n",
        "    min_ano = df_estacion[\"AÑO\"].min()\n",
        "    max_ano = df_estacion[\"AÑO\"].max()\n",
        "    print(\"Registros entre los años: \"+str(min_ano)+\" - \"+str(max_ano)+\"\\n\", file=f)\n",
        "    for anio in range(min_ano,max_ano + 1):\n",
        "        df_anio = df_estacion[df_estacion['AÑO'] == anio]\n",
        "        print(anio, file=f)\n",
        "        res = df_anio.isin([anio]).any().any() \n",
        "        if res : \n",
        "            a=0 \n",
        "        else : \n",
        "            print(\"No hay registros del año: \"+ str(anio), file=f)\n",
        "        for mes in range(1,13):\n",
        "            df_mes = df_anio[df_anio['MES'] == mes]\n",
        "            resmes = df_mes.isin([mes]).any().any() \n",
        "            if resmes : \n",
        "                a = 3\n",
        "                for dia in range(1,meses[mes]+1):\n",
        "                    df_dia = df_mes[df_mes['DIA'] == dia]\n",
        "                    resdia = df_dia.isin([dia]).any().any() \n",
        "                    if resdia : \n",
        "                      a = 1\n",
        "                    else : \n",
        "                        print(\"No hay registros del dia: \"+str(dia)+\"/\"+ str(mes)+\"/\"+ str(anio), file=f)\n",
        "                        fechassininfo.append(str(dia)+\"/\"+ str(mes)+\"/\"+ str(anio)) \n",
        "            else : \n",
        "                print(\"No hay registros del mes \"+ str(mes)+\" del año \"+ str(anio))\n",
        "    print(\"\\n\"+\"/////////////  RESUMEN REPORTE ESTACIÓN COD: \"+ str(estacion) + \"  //////////////////////////\"+\"\\n\", file=f )\n",
        "    print(\"Rango temporal de regsitros: \"+str(min_ano)+\" - \"+str(max_ano)+\"\\n\", file=f)\n",
        "    print(\"Fechas sin información en el registro: \" + str(len(fechassininfo)) + \" registros ausentes\", file=f)\n",
        "    for fechas in fechassininfo:\n",
        "      print(str(fechas), file=f)\n",
        "f.close()"
      ],
      "execution_count": 14,
      "outputs": [
        {
          "output_type": "stream",
          "text": [
            "No hay registros del mes 7 del año 1996\n",
            "No hay registros del mes 8 del año 1996\n",
            "No hay registros del mes 9 del año 1996\n",
            "No hay registros del mes 6 del año 1997\n",
            "No hay registros del mes 7 del año 2002\n",
            "No hay registros del mes 8 del año 2002\n",
            "No hay registros del mes 9 del año 2002\n",
            "No hay registros del mes 7 del año 2011\n",
            "No hay registros del mes 8 del año 2011\n",
            "No hay registros del mes 9 del año 2011\n",
            "No hay registros del mes 7 del año 2018\n",
            "No hay registros del mes 8 del año 2018\n",
            "No hay registros del mes 5 del año 2020\n",
            "No hay registros del mes 6 del año 2020\n",
            "No hay registros del mes 7 del año 2020\n",
            "No hay registros del mes 8 del año 2020\n",
            "No hay registros del mes 9 del año 2020\n",
            "No hay registros del mes 10 del año 2020\n",
            "No hay registros del mes 11 del año 2020\n",
            "No hay registros del mes 12 del año 2020\n"
          ],
          "name": "stdout"
        }
      ]
    },
    {
      "cell_type": "code",
      "metadata": {
        "id": "3X3-Gx2AzdHJ",
        "colab": {
          "base_uri": "https://localhost:8080/",
          "height": 17
        },
        "outputId": "7df01c3f-dead-42aa-f456-0f5c3f1fb5d1"
      },
      "source": [
        "files.download('example.txt')"
      ],
      "execution_count": 15,
      "outputs": [
        {
          "output_type": "display_data",
          "data": {
            "application/javascript": [
              "\n",
              "    async function download(id, filename, size) {\n",
              "      if (!google.colab.kernel.accessAllowed) {\n",
              "        return;\n",
              "      }\n",
              "      const div = document.createElement('div');\n",
              "      const label = document.createElement('label');\n",
              "      label.textContent = `Downloading \"${filename}\": `;\n",
              "      div.appendChild(label);\n",
              "      const progress = document.createElement('progress');\n",
              "      progress.max = size;\n",
              "      div.appendChild(progress);\n",
              "      document.body.appendChild(div);\n",
              "\n",
              "      const buffers = [];\n",
              "      let downloaded = 0;\n",
              "\n",
              "      const channel = await google.colab.kernel.comms.open(id);\n",
              "      // Send a message to notify the kernel that we're ready.\n",
              "      channel.send({})\n",
              "\n",
              "      for await (const message of channel.messages) {\n",
              "        // Send a message to notify the kernel that we're ready.\n",
              "        channel.send({})\n",
              "        if (message.buffers) {\n",
              "          for (const buffer of message.buffers) {\n",
              "            buffers.push(buffer);\n",
              "            downloaded += buffer.byteLength;\n",
              "            progress.value = downloaded;\n",
              "          }\n",
              "        }\n",
              "      }\n",
              "      const blob = new Blob(buffers, {type: 'application/binary'});\n",
              "      const a = document.createElement('a');\n",
              "      a.href = window.URL.createObjectURL(blob);\n",
              "      a.download = filename;\n",
              "      div.appendChild(a);\n",
              "      a.click();\n",
              "      div.remove();\n",
              "    }\n",
              "  "
            ],
            "text/plain": [
              "<IPython.core.display.Javascript object>"
            ]
          },
          "metadata": {
            "tags": []
          }
        },
        {
          "output_type": "display_data",
          "data": {
            "application/javascript": [
              "download(\"download_c3c99d5b-d306-480e-86e7-4b286687b08a\", \"example.txt\", 12886)"
            ],
            "text/plain": [
              "<IPython.core.display.Javascript object>"
            ]
          },
          "metadata": {
            "tags": []
          }
        }
      ]
    }
  ]
}