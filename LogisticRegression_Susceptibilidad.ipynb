{
  "nbformat": 4,
  "nbformat_minor": 0,
  "metadata": {
    "colab": {
      "name": "LogisticRegression_Sesion7.ipynb",
      "provenance": [],
      "collapsed_sections": [],
      "include_colab_link": true
    },
    "kernelspec": {
      "name": "python3",
      "display_name": "Python 3"
    }
  },
  "cells": [
    {
      "cell_type": "markdown",
      "metadata": {
        "id": "view-in-github",
        "colab_type": "text"
      },
      "source": [
        "<a href=\"https://colab.research.google.com/github/januarf12/GEOCING/blob/main/LogisticRegression_Susceptibilidad.ipynb\" target=\"_parent\"><img src=\"https://colab.research.google.com/assets/colab-badge.svg\" alt=\"Open In Colab\"/></a>"
      ]
    },
    {
      "cell_type": "code",
      "metadata": {
        "id": "8LiI_-Jz4-8K"
      },
      "source": [
        "#!/usr/bin/env python3\n",
        "# -*- coding: utf-8 -*-\n",
        "\"\"\"\n",
        "Created on Wed May 13 21:14:03 2020\n",
        "\n",
        "@author: Paul Goyes\n",
        "@email : ypgoype@correo.uis.edu.co\n",
        "          video sesion 7 link Drive: #########################################################################\n",
        "@Modified_By: Ing. Felipe Riaño\n",
        "\n",
        "@Comments:\n",
        "- Las lineas modificables se marcan con el comentario: #Mod!\n",
        "\"\"\"\n",
        "\n",
        "import pandas as pd\n",
        "import numpy as np\n",
        "import matplotlib.pyplot as plt\n",
        "import tensorflow.keras as kr\n",
        "from numpy import round"
      ],
      "execution_count": null,
      "outputs": []
    },
    {
      "cell_type": "code",
      "metadata": {
        "id": "JqcRB7Nq5E5n",
        "colab": {
          "base_uri": "https://localhost:8080/",
          "height": 204
        },
        "outputId": "a21ebf93-dacd-47b7-9ef5-d5d6e3913ce2"
      },
      "source": [
        "## Upload the X,y variables\n",
        "\n",
        "\"\"\" Una variable 'X' con los valores para el muestreo en las diferentes variables\n",
        "y una variable 'y' de salida, relacionada con la variable binaria dependiente \"\"\"\n",
        "\n",
        "#Montamos el dataframe de puntos 1/0 con sus valores de cada variable\n",
        "\n",
        "url = \"https://raw.githubusercontent.com/januarf12/GEOCING/main/Tabla_RL.csv\" #Mod!\n",
        "\n",
        "df = pd.read_csv(url)\n",
        "df.head()"
      ],
      "execution_count": null,
      "outputs": [
        {
          "output_type": "execute_result",
          "data": {
            "text/html": [
              "<div>\n",
              "<style scoped>\n",
              "    .dataframe tbody tr th:only-of-type {\n",
              "        vertical-align: middle;\n",
              "    }\n",
              "\n",
              "    .dataframe tbody tr th {\n",
              "        vertical-align: top;\n",
              "    }\n",
              "\n",
              "    .dataframe thead th {\n",
              "        text-align: right;\n",
              "    }\n",
              "</style>\n",
              "<table border=\"1\" class=\"dataframe\">\n",
              "  <thead>\n",
              "    <tr style=\"text-align: right;\">\n",
              "      <th></th>\n",
              "      <th>FID</th>\n",
              "      <th>Shape *</th>\n",
              "      <th>Evento</th>\n",
              "      <th>PC1_woe</th>\n",
              "      <th>PC2_woe</th>\n",
              "      <th>V2X_woe</th>\n",
              "      <th>X1R_woe</th>\n",
              "      <th>X3R_woe</th>\n",
              "    </tr>\n",
              "  </thead>\n",
              "  <tbody>\n",
              "    <tr>\n",
              "      <th>0</th>\n",
              "      <td>4</td>\n",
              "      <td>Point ZM</td>\n",
              "      <td>1</td>\n",
              "      <td>-0.431997</td>\n",
              "      <td>0.616158</td>\n",
              "      <td>-0.202755</td>\n",
              "      <td>0.165285</td>\n",
              "      <td>0.543944</td>\n",
              "    </tr>\n",
              "    <tr>\n",
              "      <th>1</th>\n",
              "      <td>7</td>\n",
              "      <td>Point ZM</td>\n",
              "      <td>1</td>\n",
              "      <td>0.965277</td>\n",
              "      <td>0.304827</td>\n",
              "      <td>1.262050</td>\n",
              "      <td>0.165285</td>\n",
              "      <td>0.083882</td>\n",
              "    </tr>\n",
              "    <tr>\n",
              "      <th>2</th>\n",
              "      <td>8</td>\n",
              "      <td>Point ZM</td>\n",
              "      <td>1</td>\n",
              "      <td>0.965277</td>\n",
              "      <td>0.304827</td>\n",
              "      <td>1.262050</td>\n",
              "      <td>0.165285</td>\n",
              "      <td>0.083882</td>\n",
              "    </tr>\n",
              "    <tr>\n",
              "      <th>3</th>\n",
              "      <td>9</td>\n",
              "      <td>Point ZM</td>\n",
              "      <td>1</td>\n",
              "      <td>0.965277</td>\n",
              "      <td>0.304827</td>\n",
              "      <td>1.262050</td>\n",
              "      <td>0.165285</td>\n",
              "      <td>0.083882</td>\n",
              "    </tr>\n",
              "    <tr>\n",
              "      <th>4</th>\n",
              "      <td>10</td>\n",
              "      <td>Point ZM</td>\n",
              "      <td>1</td>\n",
              "      <td>0.965277</td>\n",
              "      <td>0.304827</td>\n",
              "      <td>1.262050</td>\n",
              "      <td>0.165285</td>\n",
              "      <td>0.170430</td>\n",
              "    </tr>\n",
              "  </tbody>\n",
              "</table>\n",
              "</div>"
            ],
            "text/plain": [
              "   FID   Shape *  Evento   PC1_woe   PC2_woe   V2X_woe   X1R_woe   X3R_woe\n",
              "0    4  Point ZM       1 -0.431997  0.616158 -0.202755  0.165285  0.543944\n",
              "1    7  Point ZM       1  0.965277  0.304827  1.262050  0.165285  0.083882\n",
              "2    8  Point ZM       1  0.965277  0.304827  1.262050  0.165285  0.083882\n",
              "3    9  Point ZM       1  0.965277  0.304827  1.262050  0.165285  0.083882\n",
              "4   10  Point ZM       1  0.965277  0.304827  1.262050  0.165285  0.170430"
            ]
          },
          "metadata": {
            "tags": []
          },
          "execution_count": 3
        }
      ]
    },
    {
      "cell_type": "code",
      "metadata": {
        "id": "UFqGm4a25GDp",
        "colab": {
          "base_uri": "https://localhost:8080/"
        },
        "outputId": "a475ca35-a2b8-44d4-a329-131eb4f35866"
      },
      "source": [
        "# Model variables\n",
        "\"\"\"Creamos una lista con los encabezados del DF para decirle al código a partir de qué columnas debe extraer la información\"\"\"\n",
        "feature_cols=['PC1_woe','PC2_woe','V2X_woe','X1R_woe','X3R_woe'] #Mod!\n",
        "X = df[feature_cols].values\n",
        "tamanio_Dataframe = X.shape #Calculamos el tamaño del DF para corroborar\n",
        "# Separating out the target - Extraemos la columna binaria del DF para asignarla como la variable de salida\n",
        "y = df[\"Evento\"].values #Mod! Con el nombre de esa columna en el DF\n",
        "\n",
        "print('Su tabla de datos cuenta con la siguiente dimensión: '+ str(tamanio_Dataframe))"
      ],
      "execution_count": null,
      "outputs": [
        {
          "output_type": "stream",
          "text": [
            "Su tabla de datos cuenta con la siguiente dimensión: (855, 5)\n"
          ],
          "name": "stdout"
        }
      ]
    },
    {
      "cell_type": "code",
      "metadata": {
        "id": "2YfcCcFhIGpM"
      },
      "source": [
        "\"\"\"Se construye el modelo de regresión. Este bloque es fijo pero podrían variarse el método de solución para ver el cambio en \n",
        "los coeficientes calculados por cada modelo.\n",
        "Este modelo aún no tiene los datos a predecir es lo que haremos a continuación-\"\"\"\n",
        "\n",
        "# Build logistic model llamado : \"logistic\"\n",
        "from sklearn.linear_model import LogisticRegression\n",
        "\n",
        "#random_state=0\n",
        "#multi_class='ovr'\n",
        "#solver = 'newton-cg', 'lbfgs', 'liblinear', 'sag', 'saga'\n",
        "logistic= LogisticRegression(random_state=0,\n",
        "                             solver='newton-cg',\n",
        "                             multi_class='ovr',\n",
        "                             fit_intercept = True)"
      ],
      "execution_count": null,
      "outputs": []
    },
    {
      "cell_type": "markdown",
      "metadata": {
        "id": "10GikAbfMN2i"
      },
      "source": [
        "**FIT THE MODEL**"
      ]
    },
    {
      "cell_type": "code",
      "metadata": {
        "colab": {
          "base_uri": "https://localhost:8080/"
        },
        "id": "UCsVDyzEOd25",
        "outputId": "c56d858b-20a9-431c-bc5d-715c0384b603"
      },
      "source": [
        "# Fit the model including values\n",
        "logistic = logistic.fit(X,y.reshape(-1,1).ravel()) #Verificador que ajusta las dimensiones de las variables\n",
        "print(logistic.coef_,logistic.intercept_)"
      ],
      "execution_count": null,
      "outputs": [
        {
          "output_type": "stream",
          "text": [
            "[[-0.62861826  0.93802421  0.85416603  0.5638891   0.84106938]] [1.33490086]\n"
          ],
          "name": "stdout"
        }
      ]
    },
    {
      "cell_type": "code",
      "metadata": {
        "colab": {
          "base_uri": "https://localhost:8080/"
        },
        "id": "V3epsnauou9W",
        "outputId": "187a1886-53b4-4c03-9e39-c97e6486f0c7"
      },
      "source": [
        "# Check the model\n",
        "\"\"\" Verificamos las predicciones del modelo con valores nuevos de cada variable\n",
        "- Las entradas del modelo deben ser de 2D (por eso: [[]]) en el ejemplo pasamos un vector de dim[1,5]\n",
        "\"\"\"\n",
        "logistic.predict_proba([[0.01,1.02,1.2,0.1,0.1]])[:,1] # En esta linea estamos comprobando el valor de probabilidad para un punto especifico del espacio con una combinación determinada de valores en cada variable"
      ],
      "execution_count": null,
      "outputs": [
        {
          "output_type": "execute_result",
          "data": {
            "text/plain": [
              "array([0.9692578])"
            ]
          },
          "metadata": {
            "tags": []
          },
          "execution_count": 8
        }
      ]
    },
    {
      "cell_type": "markdown",
      "metadata": {
        "id": "iqStclJVHdNq"
      },
      "source": [
        "**ROC CURVE**"
      ]
    },
    {
      "cell_type": "code",
      "metadata": {
        "colab": {
          "base_uri": "https://localhost:8080/",
          "height": 282
        },
        "id": "b8ub77F-qbmV",
        "outputId": "aa0af2ef-6019-4168-9a8c-bf04c615ab5a"
      },
      "source": [
        "\"\"\"\n",
        "  Para validar el modelo no tenemos datos de validación (en este caso), usamos una curva ROC con los datos predichos por el modelo y los datos conocidos\n",
        "\"\"\"\n",
        "\n",
        "from sklearn import metrics\n",
        "plt.subplot(122)\n",
        "y_pred_proba = logistic.predict_proba(X)[:,1] #En esta linea vamos a predecir valores para todos los datos en X, es decir los mismos datos de entrada \n",
        "                                              #(la fn para encontrar esa probabilidad es un array con dos columnas y en la 0 se relaciona laa prob. de no ocurrencia por eso buscamos la columna 1)\n",
        "fpr, tpr, _ = metrics.roc_curve(y,  y_pred_proba) #Comparamos los valores de los y reales con los resultados de los y predichos\n",
        "auc = metrics.roc_auc_score(y, y_pred_proba)\n",
        "plt.plot(fpr,tpr,label=\"data 1, auc=\"+str(auc))\n",
        "plt.legend(loc=2)"
      ],
      "execution_count": null,
      "outputs": [
        {
          "output_type": "execute_result",
          "data": {
            "text/plain": [
              "<matplotlib.legend.Legend at 0x7fcff707d890>"
            ]
          },
          "metadata": {
            "tags": []
          },
          "execution_count": 10
        },
        {
          "output_type": "display_data",
          "data": {
            "image/png": "[encoded data removed]",
            "text/plain": [
              "<Figure size 432x288 with 1 Axes>"
            ]
          },
          "metadata": {
            "tags": [],
            "needs_background": "light"
          }
        }
      ]
    },
    {
      "cell_type": "markdown",
      "metadata": {
        "id": "BDtTPnaejc0g"
      },
      "source": [
        "****ESTADISTICOS DEL MODELO CALCULADO****"
      ]
    },
    {
      "cell_type": "code",
      "metadata": {
        "colab": {
          "base_uri": "https://localhost:8080/"
        },
        "id": "opSXhvpFiIW5",
        "outputId": "a445e7ca-0c7c-4f00-860d-396cc2fde8b1"
      },
      "source": [
        "\"\"\"\n",
        "    Vamos a evaluar los resultados del modelo a través de una serie de estadisticos\n",
        "\"\"\"\n",
        "# Veamos una descripción resumida de los datos para cada variable\n",
        "print(df.describe())\n",
        "\n",
        "# Calculate matrix of predicted class probabilities.\n",
        "predProbs = logistic.predict_proba(X)\n",
        "print(logistic.classes_) # Check logistic.classes_ to make sure that sklearn ordered your classes as expected (0s y 1s)\n",
        "\n",
        "# Design matrix -- add column of 1's at the beginning of your X_train matrix\n",
        "X_design = np.hstack([np.ones((X.shape[0], 1)), X])\n",
        "\n",
        "# Initiate matrix of 0's, fill diagonal with each predicted observation's variance\n",
        "V = np.diagflat(np.product(predProbs, axis=1))\n",
        "\n",
        "# Covariance matrix\n",
        "# Note that the @-operater does matrix multiplication in Python 3.5+, so if you're running\n",
        "# Python 3.5+, you can replace the covLogit-line below with the more readable:\n",
        "# covLogit = np.linalg.inv(X_design.T @ V @ X_design)\n",
        "covLogit = np.linalg.inv(np.dot(np.dot(X_design.T, V), X_design))\n",
        "print(\"Covariance matrix: \", covLogit)\n",
        "\n",
        "# Standard errors\n",
        "print(\"Standard errors: \", np.sqrt(np.diag(covLogit)))\n",
        "\n",
        "# Wald statistic (coefficient / s.e.) ^ 2\n",
        "logitParams = np.insert(logistic.coef_, 0, logistic.intercept_)\n",
        "print(\"Wald statistics: \", (logitParams / np.sqrt(np.diag(covLogit))) ** 2)"
      ],
      "execution_count": null,
      "outputs": [
        {
          "output_type": "stream",
          "text": [
            "              FID      Evento     PC1_woe  ...     V2X_woe     X1R_woe     X3R_woe\n",
            "count  855.000000  855.000000  855.000000  ...  855.000000  855.000000  855.000000\n",
            "mean   427.000000    0.740351    0.309495  ...    0.112065    0.002323    0.104073\n",
            "std    246.961535    0.438699    0.711766  ...    1.017811    0.454794    0.437948\n",
            "min      0.000000    0.000000   -1.114440  ...   -2.221800   -1.121420   -0.809453\n",
            "25%    213.500000    0.000000   -0.431997  ...   -0.657437    0.165285    0.083882\n",
            "50%    427.000000    1.000000    0.496723  ...   -0.202755    0.165285    0.170430\n",
            "75%    640.500000    1.000000    0.965277  ...    1.020940    0.281144    0.543944\n",
            "max    854.000000    1.000000    0.965277  ...    7.644080    0.281144    0.543944\n",
            "\n",
            "[8 rows x 7 columns]\n",
            "[0 1]\n",
            "Covariance matrix:  [[ 1.16181395e-02 -7.90365446e-03  4.01326360e-03  3.55804822e-03\n",
            "   2.36992391e-03 -3.33639250e-04]\n",
            " [-7.90365446e-03  1.81214774e-02 -3.85791426e-03 -3.82638391e-03\n",
            "  -4.00545357e-03 -2.42084684e-03]\n",
            " [ 4.01326360e-03 -3.85791426e-03  2.88026392e-02  7.54117077e-04\n",
            "  -7.10181412e-03  1.06659034e-03]\n",
            " [ 3.55804822e-03 -3.82638391e-03  7.54117077e-04  1.08495252e-02\n",
            "   2.08040800e-03  7.04528376e-05]\n",
            " [ 2.36992391e-03 -4.00545357e-03 -7.10181412e-03  2.08040800e-03\n",
            "   3.62816224e-02  2.39416752e-03]\n",
            " [-3.33639250e-04 -2.42084684e-03  1.06659034e-03  7.04528376e-05\n",
            "   2.39416752e-03  3.70811093e-02]]\n",
            "Standard errors:  [0.10778747 0.13461604 0.1697134  0.10416105 0.19047735 0.19256456]\n",
            "Wald statistics:  [153.37742478  21.80621982  30.54891627  67.24714619   8.76396647\n",
            "  19.07703706]\n"
          ],
          "name": "stdout"
        }
      ]
    },
    {
      "cell_type": "code",
      "metadata": {
        "colab": {
          "base_uri": "https://localhost:8080/"
        },
        "id": "z51I6ZIBk50o",
        "outputId": "c5fb2f1b-fe9e-4578-c203-36a4e90a9c77"
      },
      "source": [
        "print(V)"
      ],
      "execution_count": null,
      "outputs": [
        {
          "output_type": "stream",
          "text": [
            "[[0.06649758 0.         0.         ... 0.         0.         0.        ]\n",
            " [0.         0.08585386 0.         ... 0.         0.         0.        ]\n",
            " [0.         0.         0.08585386 ... 0.         0.         0.        ]\n",
            " ...\n",
            " [0.         0.         0.         ... 0.19289269 0.         0.        ]\n",
            " [0.         0.         0.         ... 0.         0.24637364 0.        ]\n",
            " [0.         0.         0.         ... 0.         0.         0.17711299]]\n"
          ],
          "name": "stdout"
        }
      ]
    },
    {
      "cell_type": "code",
      "metadata": {
        "id": "V1kNJPbA5Hdy"
      },
      "source": [
        "# build the optimization functions (functions for curve fitting)\n",
        "from scipy.optimize import curve_fit\n",
        "from scipy.optimize import least_squares\n",
        "\n",
        "# list of bounds: each item is a tuple with the (lower, upper) bounds\n",
        "def func(x,a,b):\n",
        "    return 1 / (1+np.exp(-(a + b*x)))\n",
        "\n",
        "popt, pcov = curve_fit(func, df.Hours.values, df.Pass.values)\n",
        "\n",
        "print(popt)\n"
      ],
      "execution_count": null,
      "outputs": []
    },
    {
      "cell_type": "code",
      "metadata": {
        "id": "iVCa5Irv5RGz",
        "colab": {
          "base_uri": "https://localhost:8080/",
          "height": 350
        },
        "outputId": "cc57ac62-d66a-42a9-fb30-cff9cb265079"
      },
      "source": [
        "# fit the functions - perform optimization solution with least squares\n",
        "\n",
        "def fun(x, t, y):\n",
        "    return 1/(1+np.exp(-(x[0] + x[1]*t))) - y\n",
        "\n",
        "x0 = np.ones(2)\n",
        "\n",
        "res_lsq = least_squares(fun, x0, args=( df.Hours.values, df.Pass.values))\n",
        "\n",
        "res_robust = least_squares(fun, x0, loss='cauchy', args=(df.Hours.values, df.Pass.values),\n",
        "                           ftol=4e-10)\n",
        "\n",
        "\n",
        "print(\"Resultados coeficientes con optimizacion \\n\",\n",
        "      \"Metodo \", \"Intercepto \", \"Coeficiente \\n\",\n",
        "      \"LS\", round(res_lsq.x[0],4), round(res_lsq.x[1],4), \"\\n\",\n",
        "      \"LS-ROBUST\", round(res_robust.x[0],4),round(res_robust.x[1],4),\"\\n\",\n",
        "      \"curve-fitting\", round(popt[0],4),round(popt[1],4))\n"
      ],
      "execution_count": null,
      "outputs": [
        {
          "output_type": "error",
          "ename": "AttributeError",
          "evalue": "ignored",
          "traceback": [
            "\u001b[0;31m---------------------------------------------------------------------------\u001b[0m",
            "\u001b[0;31mAttributeError\u001b[0m                            Traceback (most recent call last)",
            "\u001b[0;32m<ipython-input-19-62b09d783279>\u001b[0m in \u001b[0;36m<module>\u001b[0;34m()\u001b[0m\n\u001b[1;32m      6\u001b[0m \u001b[0mx0\u001b[0m \u001b[0;34m=\u001b[0m \u001b[0mnp\u001b[0m\u001b[0;34m.\u001b[0m\u001b[0mones\u001b[0m\u001b[0;34m(\u001b[0m\u001b[0;36m2\u001b[0m\u001b[0;34m)\u001b[0m\u001b[0;34m\u001b[0m\u001b[0;34m\u001b[0m\u001b[0m\n\u001b[1;32m      7\u001b[0m \u001b[0;34m\u001b[0m\u001b[0m\n\u001b[0;32m----> 8\u001b[0;31m \u001b[0mres_lsq\u001b[0m \u001b[0;34m=\u001b[0m \u001b[0mleast_squares\u001b[0m\u001b[0;34m(\u001b[0m\u001b[0mfun\u001b[0m\u001b[0;34m,\u001b[0m \u001b[0mx0\u001b[0m\u001b[0;34m,\u001b[0m \u001b[0margs\u001b[0m\u001b[0;34m=\u001b[0m\u001b[0;34m(\u001b[0m \u001b[0mdf\u001b[0m\u001b[0;34m.\u001b[0m\u001b[0mHours\u001b[0m\u001b[0;34m.\u001b[0m\u001b[0mvalues\u001b[0m\u001b[0;34m,\u001b[0m \u001b[0mdf\u001b[0m\u001b[0;34m.\u001b[0m\u001b[0mPass\u001b[0m\u001b[0;34m.\u001b[0m\u001b[0mvalues\u001b[0m\u001b[0;34m)\u001b[0m\u001b[0;34m)\u001b[0m\u001b[0;34m\u001b[0m\u001b[0;34m\u001b[0m\u001b[0m\n\u001b[0m\u001b[1;32m      9\u001b[0m \u001b[0;34m\u001b[0m\u001b[0m\n\u001b[1;32m     10\u001b[0m res_robust = least_squares(fun, x0, loss='cauchy', args=(df.Hours.values, df.Pass.values),\n",
            "\u001b[0;32m/usr/local/lib/python3.7/dist-packages/pandas/core/generic.py\u001b[0m in \u001b[0;36m__getattr__\u001b[0;34m(self, name)\u001b[0m\n\u001b[1;32m   5139\u001b[0m             \u001b[0;32mif\u001b[0m \u001b[0mself\u001b[0m\u001b[0;34m.\u001b[0m\u001b[0m_info_axis\u001b[0m\u001b[0;34m.\u001b[0m\u001b[0m_can_hold_identifiers_and_holds_name\u001b[0m\u001b[0;34m(\u001b[0m\u001b[0mname\u001b[0m\u001b[0;34m)\u001b[0m\u001b[0;34m:\u001b[0m\u001b[0;34m\u001b[0m\u001b[0;34m\u001b[0m\u001b[0m\n\u001b[1;32m   5140\u001b[0m                 \u001b[0;32mreturn\u001b[0m \u001b[0mself\u001b[0m\u001b[0;34m[\u001b[0m\u001b[0mname\u001b[0m\u001b[0;34m]\u001b[0m\u001b[0;34m\u001b[0m\u001b[0;34m\u001b[0m\u001b[0m\n\u001b[0;32m-> 5141\u001b[0;31m             \u001b[0;32mreturn\u001b[0m \u001b[0mobject\u001b[0m\u001b[0;34m.\u001b[0m\u001b[0m__getattribute__\u001b[0m\u001b[0;34m(\u001b[0m\u001b[0mself\u001b[0m\u001b[0;34m,\u001b[0m \u001b[0mname\u001b[0m\u001b[0;34m)\u001b[0m\u001b[0;34m\u001b[0m\u001b[0;34m\u001b[0m\u001b[0m\n\u001b[0m\u001b[1;32m   5142\u001b[0m \u001b[0;34m\u001b[0m\u001b[0m\n\u001b[1;32m   5143\u001b[0m     \u001b[0;32mdef\u001b[0m \u001b[0m__setattr__\u001b[0m\u001b[0;34m(\u001b[0m\u001b[0mself\u001b[0m\u001b[0;34m,\u001b[0m \u001b[0mname\u001b[0m\u001b[0;34m:\u001b[0m \u001b[0mstr\u001b[0m\u001b[0;34m,\u001b[0m \u001b[0mvalue\u001b[0m\u001b[0;34m)\u001b[0m \u001b[0;34m->\u001b[0m \u001b[0;32mNone\u001b[0m\u001b[0;34m:\u001b[0m\u001b[0;34m\u001b[0m\u001b[0;34m\u001b[0m\u001b[0m\n",
            "\u001b[0;31mAttributeError\u001b[0m: 'DataFrame' object has no attribute 'Hours'"
          ]
        }
      ]
    },
    {
      "cell_type": "code",
      "metadata": {
        "id": "zZC0IjFr5bMp",
        "colab": {
          "base_uri": "https://localhost:8080/",
          "height": 367
        },
        "outputId": "7f5315ef-c485-4a86-d23e-82109bbc1c60"
      },
      "source": [
        "#plot results\n",
        "\n",
        "plt.figure()\n",
        "plt.plot(df.Hours.values,fun(res_lsq.x,df.Hours.values,0),'r-',label='res-standard')\n",
        "plt.plot(df.Hours.values,fun(res_robust.x,df.Hours.values,0),'b-',label='res-robust')\n",
        "plt.plot(df.Hours.values,df.Pass.values,'ko',label='original data')\n",
        "plt.legend()\n",
        "plt.show()"
      ],
      "execution_count": null,
      "outputs": [
        {
          "output_type": "error",
          "ename": "AttributeError",
          "evalue": "ignored",
          "traceback": [
            "\u001b[0;31m---------------------------------------------------------------------------\u001b[0m",
            "\u001b[0;31mAttributeError\u001b[0m                            Traceback (most recent call last)",
            "\u001b[0;32m<ipython-input-20-7827b79b9e99>\u001b[0m in \u001b[0;36m<module>\u001b[0;34m()\u001b[0m\n\u001b[1;32m      2\u001b[0m \u001b[0;34m\u001b[0m\u001b[0m\n\u001b[1;32m      3\u001b[0m \u001b[0mplt\u001b[0m\u001b[0;34m.\u001b[0m\u001b[0mfigure\u001b[0m\u001b[0;34m(\u001b[0m\u001b[0;34m)\u001b[0m\u001b[0;34m\u001b[0m\u001b[0;34m\u001b[0m\u001b[0m\n\u001b[0;32m----> 4\u001b[0;31m \u001b[0mplt\u001b[0m\u001b[0;34m.\u001b[0m\u001b[0mplot\u001b[0m\u001b[0;34m(\u001b[0m\u001b[0mdf\u001b[0m\u001b[0;34m.\u001b[0m\u001b[0mHours\u001b[0m\u001b[0;34m.\u001b[0m\u001b[0mvalues\u001b[0m\u001b[0;34m,\u001b[0m\u001b[0mfun\u001b[0m\u001b[0;34m(\u001b[0m\u001b[0mres_lsq\u001b[0m\u001b[0;34m.\u001b[0m\u001b[0mx\u001b[0m\u001b[0;34m,\u001b[0m\u001b[0mdf\u001b[0m\u001b[0;34m.\u001b[0m\u001b[0mHours\u001b[0m\u001b[0;34m.\u001b[0m\u001b[0mvalues\u001b[0m\u001b[0;34m,\u001b[0m\u001b[0;36m0\u001b[0m\u001b[0;34m)\u001b[0m\u001b[0;34m,\u001b[0m\u001b[0;34m'r-'\u001b[0m\u001b[0;34m,\u001b[0m\u001b[0mlabel\u001b[0m\u001b[0;34m=\u001b[0m\u001b[0;34m'res-standard'\u001b[0m\u001b[0;34m)\u001b[0m\u001b[0;34m\u001b[0m\u001b[0;34m\u001b[0m\u001b[0m\n\u001b[0m\u001b[1;32m      5\u001b[0m \u001b[0mplt\u001b[0m\u001b[0;34m.\u001b[0m\u001b[0mplot\u001b[0m\u001b[0;34m(\u001b[0m\u001b[0mdf\u001b[0m\u001b[0;34m.\u001b[0m\u001b[0mHours\u001b[0m\u001b[0;34m.\u001b[0m\u001b[0mvalues\u001b[0m\u001b[0;34m,\u001b[0m\u001b[0mfun\u001b[0m\u001b[0;34m(\u001b[0m\u001b[0mres_robust\u001b[0m\u001b[0;34m.\u001b[0m\u001b[0mx\u001b[0m\u001b[0;34m,\u001b[0m\u001b[0mdf\u001b[0m\u001b[0;34m.\u001b[0m\u001b[0mHours\u001b[0m\u001b[0;34m.\u001b[0m\u001b[0mvalues\u001b[0m\u001b[0;34m,\u001b[0m\u001b[0;36m0\u001b[0m\u001b[0;34m)\u001b[0m\u001b[0;34m,\u001b[0m\u001b[0;34m'b-'\u001b[0m\u001b[0;34m,\u001b[0m\u001b[0mlabel\u001b[0m\u001b[0;34m=\u001b[0m\u001b[0;34m'res-robust'\u001b[0m\u001b[0;34m)\u001b[0m\u001b[0;34m\u001b[0m\u001b[0;34m\u001b[0m\u001b[0m\n\u001b[1;32m      6\u001b[0m \u001b[0mplt\u001b[0m\u001b[0;34m.\u001b[0m\u001b[0mplot\u001b[0m\u001b[0;34m(\u001b[0m\u001b[0mdf\u001b[0m\u001b[0;34m.\u001b[0m\u001b[0mHours\u001b[0m\u001b[0;34m.\u001b[0m\u001b[0mvalues\u001b[0m\u001b[0;34m,\u001b[0m\u001b[0mdf\u001b[0m\u001b[0;34m.\u001b[0m\u001b[0mPass\u001b[0m\u001b[0;34m.\u001b[0m\u001b[0mvalues\u001b[0m\u001b[0;34m,\u001b[0m\u001b[0;34m'ko'\u001b[0m\u001b[0;34m,\u001b[0m\u001b[0mlabel\u001b[0m\u001b[0;34m=\u001b[0m\u001b[0;34m'original data'\u001b[0m\u001b[0;34m)\u001b[0m\u001b[0;34m\u001b[0m\u001b[0;34m\u001b[0m\u001b[0m\n",
            "\u001b[0;32m/usr/local/lib/python3.7/dist-packages/pandas/core/generic.py\u001b[0m in \u001b[0;36m__getattr__\u001b[0;34m(self, name)\u001b[0m\n\u001b[1;32m   5139\u001b[0m             \u001b[0;32mif\u001b[0m \u001b[0mself\u001b[0m\u001b[0;34m.\u001b[0m\u001b[0m_info_axis\u001b[0m\u001b[0;34m.\u001b[0m\u001b[0m_can_hold_identifiers_and_holds_name\u001b[0m\u001b[0;34m(\u001b[0m\u001b[0mname\u001b[0m\u001b[0;34m)\u001b[0m\u001b[0;34m:\u001b[0m\u001b[0;34m\u001b[0m\u001b[0;34m\u001b[0m\u001b[0m\n\u001b[1;32m   5140\u001b[0m                 \u001b[0;32mreturn\u001b[0m \u001b[0mself\u001b[0m\u001b[0;34m[\u001b[0m\u001b[0mname\u001b[0m\u001b[0;34m]\u001b[0m\u001b[0;34m\u001b[0m\u001b[0;34m\u001b[0m\u001b[0m\n\u001b[0;32m-> 5141\u001b[0;31m             \u001b[0;32mreturn\u001b[0m \u001b[0mobject\u001b[0m\u001b[0;34m.\u001b[0m\u001b[0m__getattribute__\u001b[0m\u001b[0;34m(\u001b[0m\u001b[0mself\u001b[0m\u001b[0;34m,\u001b[0m \u001b[0mname\u001b[0m\u001b[0;34m)\u001b[0m\u001b[0;34m\u001b[0m\u001b[0;34m\u001b[0m\u001b[0m\n\u001b[0m\u001b[1;32m   5142\u001b[0m \u001b[0;34m\u001b[0m\u001b[0m\n\u001b[1;32m   5143\u001b[0m     \u001b[0;32mdef\u001b[0m \u001b[0m__setattr__\u001b[0m\u001b[0;34m(\u001b[0m\u001b[0mself\u001b[0m\u001b[0;34m,\u001b[0m \u001b[0mname\u001b[0m\u001b[0;34m:\u001b[0m \u001b[0mstr\u001b[0m\u001b[0;34m,\u001b[0m \u001b[0mvalue\u001b[0m\u001b[0;34m)\u001b[0m \u001b[0;34m->\u001b[0m \u001b[0;32mNone\u001b[0m\u001b[0;34m:\u001b[0m\u001b[0;34m\u001b[0m\u001b[0;34m\u001b[0m\u001b[0m\n",
            "\u001b[0;31mAttributeError\u001b[0m: 'DataFrame' object has no attribute 'Hours'"
          ]
        },
        {
          "output_type": "display_data",
          "data": {
            "text/plain": [
              "<Figure size 432x288 with 0 Axes>"
            ]
          },
          "metadata": {
            "tags": []
          }
        }
      ]
    },
    {
      "cell_type": "code",
      "metadata": {
        "id": "l24bo-xd5-XO",
        "colab": {
          "base_uri": "https://localhost:8080/",
          "height": 163
        },
        "outputId": "b74f315d-6eaa-4ae7-a066-3f5ae4362407"
      },
      "source": [
        "func(2,popt[0],popt[1])"
      ],
      "execution_count": null,
      "outputs": [
        {
          "output_type": "error",
          "ename": "NameError",
          "evalue": "ignored",
          "traceback": [
            "\u001b[0;31m---------------------------------------------------------------------------\u001b[0m",
            "\u001b[0;31mNameError\u001b[0m                                 Traceback (most recent call last)",
            "\u001b[0;32m<ipython-input-21-90e28a395154>\u001b[0m in \u001b[0;36m<module>\u001b[0;34m()\u001b[0m\n\u001b[0;32m----> 1\u001b[0;31m \u001b[0mfunc\u001b[0m\u001b[0;34m(\u001b[0m\u001b[0;36m2\u001b[0m\u001b[0;34m,\u001b[0m\u001b[0mpopt\u001b[0m\u001b[0;34m[\u001b[0m\u001b[0;36m0\u001b[0m\u001b[0;34m]\u001b[0m\u001b[0;34m,\u001b[0m\u001b[0mpopt\u001b[0m\u001b[0;34m[\u001b[0m\u001b[0;36m1\u001b[0m\u001b[0;34m]\u001b[0m\u001b[0;34m)\u001b[0m\u001b[0;34m\u001b[0m\u001b[0;34m\u001b[0m\u001b[0m\n\u001b[0m",
            "\u001b[0;31mNameError\u001b[0m: name 'popt' is not defined"
          ]
        }
      ]
    },
    {
      "cell_type": "code",
      "metadata": {
        "id": "ggv761BIvuqe",
        "colab": {
          "base_uri": "https://localhost:8080/",
          "height": 483
        },
        "outputId": "708b2530-efb1-4708-f9e9-ab55308a2f58"
      },
      "source": [
        "from sklearn import metrics\n",
        "\n",
        "plt.subplot(122)\n",
        "y_pred_proba = func(X,popt[0],popt[1])\n",
        "fpr, tpr, _ = metrics.roc_curve(y,  y_pred_proba)\n",
        "auc = metrics.roc_auc_score(y, y_pred_proba)\n",
        "plt.plot(fpr,tpr,label=\"data 1, auc=\"+str(auc))\n",
        "plt.legend(loc=4)"
      ],
      "execution_count": null,
      "outputs": [
        {
          "output_type": "error",
          "ename": "NameError",
          "evalue": "ignored",
          "traceback": [
            "\u001b[0;31m---------------------------------------------------------------------------\u001b[0m",
            "\u001b[0;31mNameError\u001b[0m                                 Traceback (most recent call last)",
            "\u001b[0;32m<ipython-input-22-99226d162343>\u001b[0m in \u001b[0;36m<module>\u001b[0;34m()\u001b[0m\n\u001b[1;32m      2\u001b[0m \u001b[0;34m\u001b[0m\u001b[0m\n\u001b[1;32m      3\u001b[0m \u001b[0mplt\u001b[0m\u001b[0;34m.\u001b[0m\u001b[0msubplot\u001b[0m\u001b[0;34m(\u001b[0m\u001b[0;36m122\u001b[0m\u001b[0;34m)\u001b[0m\u001b[0;34m\u001b[0m\u001b[0;34m\u001b[0m\u001b[0m\n\u001b[0;32m----> 4\u001b[0;31m \u001b[0my_pred_proba\u001b[0m \u001b[0;34m=\u001b[0m \u001b[0mfunc\u001b[0m\u001b[0;34m(\u001b[0m\u001b[0mX\u001b[0m\u001b[0;34m,\u001b[0m\u001b[0mpopt\u001b[0m\u001b[0;34m[\u001b[0m\u001b[0;36m0\u001b[0m\u001b[0;34m]\u001b[0m\u001b[0;34m,\u001b[0m\u001b[0mpopt\u001b[0m\u001b[0;34m[\u001b[0m\u001b[0;36m1\u001b[0m\u001b[0;34m]\u001b[0m\u001b[0;34m)\u001b[0m\u001b[0;34m\u001b[0m\u001b[0;34m\u001b[0m\u001b[0m\n\u001b[0m\u001b[1;32m      5\u001b[0m \u001b[0mfpr\u001b[0m\u001b[0;34m,\u001b[0m \u001b[0mtpr\u001b[0m\u001b[0;34m,\u001b[0m \u001b[0m_\u001b[0m \u001b[0;34m=\u001b[0m \u001b[0mmetrics\u001b[0m\u001b[0;34m.\u001b[0m\u001b[0mroc_curve\u001b[0m\u001b[0;34m(\u001b[0m\u001b[0my\u001b[0m\u001b[0;34m,\u001b[0m  \u001b[0my_pred_proba\u001b[0m\u001b[0;34m)\u001b[0m\u001b[0;34m\u001b[0m\u001b[0;34m\u001b[0m\u001b[0m\n\u001b[1;32m      6\u001b[0m \u001b[0mauc\u001b[0m \u001b[0;34m=\u001b[0m \u001b[0mmetrics\u001b[0m\u001b[0;34m.\u001b[0m\u001b[0mroc_auc_score\u001b[0m\u001b[0;34m(\u001b[0m\u001b[0my\u001b[0m\u001b[0;34m,\u001b[0m \u001b[0my_pred_proba\u001b[0m\u001b[0;34m)\u001b[0m\u001b[0;34m\u001b[0m\u001b[0;34m\u001b[0m\u001b[0m\n",
            "\u001b[0;31mNameError\u001b[0m: name 'popt' is not defined"
          ]
        },
        {
          "output_type": "display_data",
          "data": {
            "image/png": "[encoded data removed]",
            "text/plain": [
              "<Figure size 432x288 with 1 Axes>"
            ]
          },
          "metadata": {
            "tags": [],
            "needs_background": "light"
          }
        }
      ]
    },
    {
      "cell_type": "code",
      "metadata": {
        "id": "or4sYywY1XRX"
      },
      "source": [
        ""
      ],
      "execution_count": null,
      "outputs": []
    }
  ]
}