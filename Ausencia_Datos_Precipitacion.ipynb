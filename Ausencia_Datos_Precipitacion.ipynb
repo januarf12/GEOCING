{
  "nbformat": 4,
  "nbformat_minor": 0,
  "metadata": {
    "kernelspec": {
      "display_name": "Python 3",
      "language": "python",
      "name": "python3"
    },
    "language_info": {
      "codemirror_mode": {
        "name": "ipython",
        "version": 3
      },
      "file_extension": ".py",
      "mimetype": "text/x-python",
      "name": "python",
      "nbconvert_exporter": "python",
      "pygments_lexer": "ipython3",
      "version": "3.8.5"
    },
    "colab": {
      "name": "Ausencia_Datos_Precipitacion.ipynb",
      "provenance": [],
      "include_colab_link": true
    }
  },
  "cells": [
    {
      "cell_type": "markdown",
      "metadata": {
        "id": "view-in-github",
        "colab_type": "text"
      },
      "source": [
        "<a href=\"https://colab.research.google.com/github/januarf12/GEOCING/blob/main/Ausencia_Datos_Precipitacion.ipynb\" target=\"_parent\"><img src=\"https://colab.research.google.com/assets/colab-badge.svg\" alt=\"Open In Colab\"/></a>"
      ]
    },
    {
      "cell_type": "markdown",
      "metadata": {
        "id": "_57vI5Ajg3mD"
      },
      "source": [
        "# VACIOS DE INFORMACIÓN EN ESTACIONES DE PRECIPITACIÓN"
      ]
    },
    {
      "cell_type": "markdown",
      "metadata": {
        "id": "vUGEVAfJg3mH"
      },
      "source": [
        "#### Código funcional para establecer la calidad de los registros de precipitación de estaciones, analizando vacios en información temporal registrada por la estación"
      ]
    },
    {
      "cell_type": "markdown",
      "metadata": {
        "id": "QdIV7Visg3mI"
      },
      "source": [
        "###### @author: Ing. Daniela F.\n",
        "###### @email : "
      ]
    },
    {
      "cell_type": "code",
      "metadata": {
        "id": "7BNA9acpg3mI"
      },
      "source": [
        "#Use to import pandas\n",
        "import pandas as pd\n",
        "#Use to import the file into google Colab drive\n",
        "from google.colab import files\n",
        "#Use to import io, which opens the file from the Colab drive\n",
        "import io \n",
        "import sys\n",
        "from google.colab import drive\n",
        "sys.stdout = open(\"F:\\\\Lluvia_critica\\\\Aerop_G_Valencia.txt\", \"w\")"
      ],
      "execution_count": 6,
      "outputs": []
    },
    {
      "cell_type": "code",
      "metadata": {
        "id": "kccem0k5g3mJ"
      },
      "source": [
        "# This will open a widget when run that will enable you to browse the files on your local storage drive.\n",
        "uploaded = files.upload()\n",
        "# Now use the below code to read the csv in pandas' dataframe\n",
        "df = pd.read_csv(io.StringIO(uploaded['NAME OF FILE.CSV'].decode('utf-8')))"
      ],
      "execution_count": null,
      "outputs": []
    },
    {
      "cell_type": "code",
      "metadata": {
        "id": "98Uvbnqokwjz"
      },
      "source": [
        "xls = pd.ExcelFile('F:\\\\Lluvia_critica\\\\Aerop_G_Valencia.xls')\n",
        "df = pd.read_excel(xls, 'aerop')"
      ],
      "execution_count": null,
      "outputs": []
    },
    {
      "cell_type": "code",
      "metadata": {
        "id": "iBEpt7mEg3mJ"
      },
      "source": [
        "meses = {1:31,2:28,3:31,4:30,5:31,6:30,7:31,8:31,9:30,10:31,11:30,12:31}\n",
        "analisis = []\n",
        "#List unique values in the df['CodigoEstacion'] column\n",
        "estaciones = df.CodigoEstacion.unique()"
      ],
      "execution_count": null,
      "outputs": []
    },
    {
      "cell_type": "code",
      "metadata": {
        "id": "23Kwk4O-g3mJ"
      },
      "source": [
        "for estacion in estaciones:\n",
        "    print(\"\\n su estacion es: \"+str(estacion))\n",
        "    # Escoger entradas de la estación a evaluar\n",
        "    df_estacion = df[df['CodigoEstacion'] == estacion]\n",
        "    min_ano = df_estacion[\"AÑO\"].min()\n",
        "    max_ano = df_estacion[\"AÑO\"].max()\n",
        "    print(\"Registros entre los años: \"+str(min_ano)+\" - \"+str(max_ano)+\"\\n\")\n",
        "    for anio in range(min_ano,max_ano + 1):\n",
        "        df_anio = df_estacion[df_estacion['AÑO'] == anio]\n",
        "        print(anio)\n",
        "        res = df_anio.isin([anio]).any().any() \n",
        "        if res : \n",
        "            print(\"Hay registros del año: \"+ str(anio)) \n",
        "        else : \n",
        "            print(\"No hay registros del año: \"+ str(anio))\n",
        "        for mes in range(1,13):\n",
        "            df_mes = df_anio[df_anio['MES'] == mes]\n",
        "            resmes = df_mes.isin([mes]).any().any() \n",
        "            if resmes : \n",
        "                print(\"Hay registros del mes \"+ str(mes)+\" del año \"+ str(anio)) \n",
        "                for dia in range(1,meses[mes]+1):\n",
        "                    df_dia = df_mes[df_mes['DIA'] == dia]\n",
        "                    resdia = df_dia.isin([dia]).any().any() \n",
        "                    if resdia : \n",
        "                        print(\"Hay registros del dia: \"+str(dia)+\"/\"+ str(mes)+\"/\"+ str(anio)) \n",
        "                    else : \n",
        "                        print(\"No hay registros del dia: \"+str(dia)+\"/\"+ str(mes)+\"/\"+ str(anio))\n",
        "            else : \n",
        "                print(\"No hay registros del mes \"+ str(mes)+\" del año \"+ str(anio))\n"
      ],
      "execution_count": null,
      "outputs": []
    }
  ]
}